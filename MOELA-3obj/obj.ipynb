{
 "cells": [
  {
   "cell_type": "code",
   "execution_count": 1,
   "metadata": {},
   "outputs": [
    {
     "ename": "ModuleNotFoundError",
     "evalue": "No module named 'platypus'",
     "output_type": "error",
     "traceback": [
      "\u001b[1;31m---------------------------------------------------------------------------\u001b[0m",
      "\u001b[1;31mModuleNotFoundError\u001b[0m                       Traceback (most recent call last)",
      "Cell \u001b[1;32mIn[1], line 2\u001b[0m\n\u001b[0;32m      1\u001b[0m \u001b[38;5;66;03m#################### generate weight vector and neighbourhood ##########################\u001b[39;00m\n\u001b[1;32m----> 2\u001b[0m \u001b[38;5;28;01mfrom\u001b[39;00m \u001b[38;5;21;01mplatypus\u001b[39;00m \u001b[38;5;28;01mimport\u001b[39;00m weights\n\u001b[0;32m      3\u001b[0m \u001b[38;5;28;01mimport\u001b[39;00m \u001b[38;5;21;01mcsv\u001b[39;00m\n\u001b[0;32m      4\u001b[0m \u001b[38;5;28;01mimport\u001b[39;00m \u001b[38;5;21;01mmath\u001b[39;00m\n",
      "\u001b[1;31mModuleNotFoundError\u001b[0m: No module named 'platypus'"
     ]
    }
   ],
   "source": [
    "#################### generate weight vector and neighbourhood ##########################\n",
    "from platypus import weights\n",
    "import csv\n",
    "import math\n",
    "import functools\n",
    "\n",
    "def sort_weights(base, weights):\n",
    "    \"\"\"Returns the index of weights nearest to the base weight.\"\"\"\n",
    "\n",
    "    def compare(weight1, weight2):\n",
    "        dist1 = math.sqrt(sum([math.pow(base[i] - weight1[1][i], 2.0) for i in range(len(base))]))\n",
    "        dist2 = math.sqrt(sum([math.pow(base[i] - weight2[1][i], 2.0) for i in range(len(base))]))\n",
    "\n",
    "        if dist1 < dist2:\n",
    "            return -1\n",
    "        elif dist1 > dist2:\n",
    "            return 1\n",
    "        else:\n",
    "            return 0\n",
    "\n",
    "    sorted_weights = sorted(enumerate(weights), key=functools.cmp_to_key(compare))\n",
    "    return [i[0] for i in sorted_weights]\n",
    "\n",
    "w2 = weights.random_weights(5,50)\n",
    "neighborhoods = []\n",
    "for i in range(50):\n",
    "    sorted_weights = sort_weights(w2[i], w2)\n",
    "    neighborhoods.append(sorted_weights[:15]) #(15 is the size of neighbor )\n",
    "\n",
    "\n",
    "with open('sirui_weight5.csv', 'w', newline='') as file: # ==4 objs and 100 population\n",
    "    writer = csv.writer(file)\n",
    "    writer.writerows(w2)\n",
    "\n",
    "with open('sirui_weight5_n.csv', 'w', newline='') as file:\n",
    "    writer = csv.writer(file)\n",
    "    writer.writerows(neighborhoods)\n",
    "    \n",
    "# with open('weight4.csv', newline='') as f:\n",
    "#      reader = csv.reader(f)\n",
    "#      data = list(reader)\n",
    "# for i in range(len(data)):\n",
    "#     data[i] = [float(j) for j in data[i]]\n",
    "\n",
    "# with open('weight4_n.csv', newline='') as f:\n",
    "#      reader = csv.reader(f)\n",
    "#      datan = list(reader)\n",
    "# for i in range(len(datan)):\n",
    "#     datan[i] = [int(j) for j in datan[i]]"
   ]
  },
  {
   "cell_type": "code",
   "execution_count": 1,
   "metadata": {},
   "outputs": [],
   "source": [
    "    # with open(method+'/seed'+str(seed_number)+'_'+method+'_phv_'+app+'3.txt', 'w') as f:\n",
    "    #     f.write(str(current_time))\n",
    "\n",
    "    # with open(method+'/seed'+str(seed_number)+'_'+method+'_time_'+app+'3.txt', 'w') as f:\n",
    "    #     f.write(str(current_time))\n",
    "\n",
    "    # with open(method+'/seed'+str(seed_number)+'_'+method+'_link_'+app+'3.txt', 'w') as f:\n",
    "    #     f.write(str(current_time))\n",
    "\n",
    "    # with open(method+'/seed'+str(seed_number)+'_'+method+'_node_'+app+'3.txt', 'w') as f:\n",
    "    #     f.write(str(current_time))\n"
   ]
  },
  {
   "cell_type": "code",
   "execution_count": null,
   "metadata": {},
   "outputs": [],
   "source": []
  }
 ],
 "metadata": {
  "kernelspec": {
   "display_name": "pytorch",
   "language": "python",
   "name": "python3"
  },
  "language_info": {
   "codemirror_mode": {
    "name": "ipython",
    "version": 3
   },
   "file_extension": ".py",
   "mimetype": "text/x-python",
   "name": "python",
   "nbconvert_exporter": "python",
   "pygments_lexer": "ipython3",
   "version": "3.8.18"
  }
 },
 "nbformat": 4,
 "nbformat_minor": 2
}
